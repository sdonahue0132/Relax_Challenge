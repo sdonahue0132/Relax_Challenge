{
 "cells": [
  {
   "cell_type": "code",
   "execution_count": 133,
   "metadata": {},
   "outputs": [],
   "source": [
    "import pandas as pd\n",
    "import numpy as np\n",
    "import datetime as dt\n",
    "import matplotlib.pyplot as plt\n",
    "\n"
   ]
  },
  {
   "cell_type": "markdown",
   "metadata": {},
   "source": [
    "# Part 1:  Data Import and Cleaning"
   ]
  },
  {
   "cell_type": "code",
   "execution_count": 6,
   "metadata": {},
   "outputs": [
    {
     "data": {
      "text/plain": [
       "(207917, 3)"
      ]
     },
     "execution_count": 6,
     "metadata": {},
     "output_type": "execute_result"
    }
   ],
   "source": [
    "#Load csv file and observe its shape and characteristics\n",
    "\n",
    "relax = pd.read_csv('Downloads/relax_challenge/takehome_user_engagement.csv')\n",
    "relax.shape"
   ]
  },
  {
   "cell_type": "code",
   "execution_count": 5,
   "metadata": {
    "scrolled": false
   },
   "outputs": [
    {
     "data": {
      "text/html": [
       "<div>\n",
       "<style scoped>\n",
       "    .dataframe tbody tr th:only-of-type {\n",
       "        vertical-align: middle;\n",
       "    }\n",
       "\n",
       "    .dataframe tbody tr th {\n",
       "        vertical-align: top;\n",
       "    }\n",
       "\n",
       "    .dataframe thead th {\n",
       "        text-align: right;\n",
       "    }\n",
       "</style>\n",
       "<table border=\"1\" class=\"dataframe\">\n",
       "  <thead>\n",
       "    <tr style=\"text-align: right;\">\n",
       "      <th></th>\n",
       "      <th>time_stamp</th>\n",
       "      <th>user_id</th>\n",
       "      <th>visited</th>\n",
       "    </tr>\n",
       "  </thead>\n",
       "  <tbody>\n",
       "    <tr>\n",
       "      <th>0</th>\n",
       "      <td>2014-04-22 03:53:30</td>\n",
       "      <td>1</td>\n",
       "      <td>1</td>\n",
       "    </tr>\n",
       "    <tr>\n",
       "      <th>1</th>\n",
       "      <td>2013-11-15 03:45:04</td>\n",
       "      <td>2</td>\n",
       "      <td>1</td>\n",
       "    </tr>\n",
       "    <tr>\n",
       "      <th>2</th>\n",
       "      <td>2013-11-29 03:45:04</td>\n",
       "      <td>2</td>\n",
       "      <td>1</td>\n",
       "    </tr>\n",
       "    <tr>\n",
       "      <th>3</th>\n",
       "      <td>2013-12-09 03:45:04</td>\n",
       "      <td>2</td>\n",
       "      <td>1</td>\n",
       "    </tr>\n",
       "    <tr>\n",
       "      <th>4</th>\n",
       "      <td>2013-12-25 03:45:04</td>\n",
       "      <td>2</td>\n",
       "      <td>1</td>\n",
       "    </tr>\n",
       "  </tbody>\n",
       "</table>\n",
       "</div>"
      ],
      "text/plain": [
       "            time_stamp  user_id  visited\n",
       "0  2014-04-22 03:53:30        1        1\n",
       "1  2013-11-15 03:45:04        2        1\n",
       "2  2013-11-29 03:45:04        2        1\n",
       "3  2013-12-09 03:45:04        2        1\n",
       "4  2013-12-25 03:45:04        2        1"
      ]
     },
     "execution_count": 5,
     "metadata": {},
     "output_type": "execute_result"
    }
   ],
   "source": [
    "relax.head()"
   ]
  },
  {
   "cell_type": "code",
   "execution_count": 15,
   "metadata": {
    "scrolled": false
   },
   "outputs": [
    {
     "data": {
      "text/plain": [
       "Series([], dtype: bool)"
      ]
     },
     "execution_count": 15,
     "metadata": {},
     "output_type": "execute_result"
    }
   ],
   "source": [
    "# Check for null values\n",
    "\n",
    "relax.isna().any()[lambda x: x]"
   ]
  },
  {
   "cell_type": "code",
   "execution_count": 9,
   "metadata": {},
   "outputs": [
    {
     "data": {
      "text/plain": [
       "(12000, 10)"
      ]
     },
     "execution_count": 9,
     "metadata": {},
     "output_type": "execute_result"
    }
   ],
   "source": [
    "users = pd.read_csv('Downloads/relax_challenge/takehome_users.csv', encoding='latin-1')\n",
    "users.shape"
   ]
  },
  {
   "cell_type": "code",
   "execution_count": 10,
   "metadata": {
    "scrolled": true
   },
   "outputs": [
    {
     "data": {
      "text/html": [
       "<div>\n",
       "<style scoped>\n",
       "    .dataframe tbody tr th:only-of-type {\n",
       "        vertical-align: middle;\n",
       "    }\n",
       "\n",
       "    .dataframe tbody tr th {\n",
       "        vertical-align: top;\n",
       "    }\n",
       "\n",
       "    .dataframe thead th {\n",
       "        text-align: right;\n",
       "    }\n",
       "</style>\n",
       "<table border=\"1\" class=\"dataframe\">\n",
       "  <thead>\n",
       "    <tr style=\"text-align: right;\">\n",
       "      <th></th>\n",
       "      <th>object_id</th>\n",
       "      <th>creation_time</th>\n",
       "      <th>name</th>\n",
       "      <th>email</th>\n",
       "      <th>creation_source</th>\n",
       "      <th>last_session_creation_time</th>\n",
       "      <th>opted_in_to_mailing_list</th>\n",
       "      <th>enabled_for_marketing_drip</th>\n",
       "      <th>org_id</th>\n",
       "      <th>invited_by_user_id</th>\n",
       "    </tr>\n",
       "  </thead>\n",
       "  <tbody>\n",
       "    <tr>\n",
       "      <th>0</th>\n",
       "      <td>1</td>\n",
       "      <td>2014-04-22 03:53:30</td>\n",
       "      <td>Clausen August</td>\n",
       "      <td>AugustCClausen@yahoo.com</td>\n",
       "      <td>GUEST_INVITE</td>\n",
       "      <td>1.398139e+09</td>\n",
       "      <td>1</td>\n",
       "      <td>0</td>\n",
       "      <td>11</td>\n",
       "      <td>10803.0</td>\n",
       "    </tr>\n",
       "    <tr>\n",
       "      <th>1</th>\n",
       "      <td>2</td>\n",
       "      <td>2013-11-15 03:45:04</td>\n",
       "      <td>Poole Matthew</td>\n",
       "      <td>MatthewPoole@gustr.com</td>\n",
       "      <td>ORG_INVITE</td>\n",
       "      <td>1.396238e+09</td>\n",
       "      <td>0</td>\n",
       "      <td>0</td>\n",
       "      <td>1</td>\n",
       "      <td>316.0</td>\n",
       "    </tr>\n",
       "    <tr>\n",
       "      <th>2</th>\n",
       "      <td>3</td>\n",
       "      <td>2013-03-19 23:14:52</td>\n",
       "      <td>Bottrill Mitchell</td>\n",
       "      <td>MitchellBottrill@gustr.com</td>\n",
       "      <td>ORG_INVITE</td>\n",
       "      <td>1.363735e+09</td>\n",
       "      <td>0</td>\n",
       "      <td>0</td>\n",
       "      <td>94</td>\n",
       "      <td>1525.0</td>\n",
       "    </tr>\n",
       "    <tr>\n",
       "      <th>3</th>\n",
       "      <td>4</td>\n",
       "      <td>2013-05-21 08:09:28</td>\n",
       "      <td>Clausen Nicklas</td>\n",
       "      <td>NicklasSClausen@yahoo.com</td>\n",
       "      <td>GUEST_INVITE</td>\n",
       "      <td>1.369210e+09</td>\n",
       "      <td>0</td>\n",
       "      <td>0</td>\n",
       "      <td>1</td>\n",
       "      <td>5151.0</td>\n",
       "    </tr>\n",
       "    <tr>\n",
       "      <th>4</th>\n",
       "      <td>5</td>\n",
       "      <td>2013-01-17 10:14:20</td>\n",
       "      <td>Raw Grace</td>\n",
       "      <td>GraceRaw@yahoo.com</td>\n",
       "      <td>GUEST_INVITE</td>\n",
       "      <td>1.358850e+09</td>\n",
       "      <td>0</td>\n",
       "      <td>0</td>\n",
       "      <td>193</td>\n",
       "      <td>5240.0</td>\n",
       "    </tr>\n",
       "  </tbody>\n",
       "</table>\n",
       "</div>"
      ],
      "text/plain": [
       "   object_id        creation_time               name  \\\n",
       "0          1  2014-04-22 03:53:30     Clausen August   \n",
       "1          2  2013-11-15 03:45:04      Poole Matthew   \n",
       "2          3  2013-03-19 23:14:52  Bottrill Mitchell   \n",
       "3          4  2013-05-21 08:09:28    Clausen Nicklas   \n",
       "4          5  2013-01-17 10:14:20          Raw Grace   \n",
       "\n",
       "                        email creation_source  last_session_creation_time  \\\n",
       "0    AugustCClausen@yahoo.com    GUEST_INVITE                1.398139e+09   \n",
       "1      MatthewPoole@gustr.com      ORG_INVITE                1.396238e+09   \n",
       "2  MitchellBottrill@gustr.com      ORG_INVITE                1.363735e+09   \n",
       "3   NicklasSClausen@yahoo.com    GUEST_INVITE                1.369210e+09   \n",
       "4          GraceRaw@yahoo.com    GUEST_INVITE                1.358850e+09   \n",
       "\n",
       "   opted_in_to_mailing_list  enabled_for_marketing_drip  org_id  \\\n",
       "0                         1                           0      11   \n",
       "1                         0                           0       1   \n",
       "2                         0                           0      94   \n",
       "3                         0                           0       1   \n",
       "4                         0                           0     193   \n",
       "\n",
       "   invited_by_user_id  \n",
       "0             10803.0  \n",
       "1               316.0  \n",
       "2              1525.0  \n",
       "3              5151.0  \n",
       "4              5240.0  "
      ]
     },
     "execution_count": 10,
     "metadata": {},
     "output_type": "execute_result"
    }
   ],
   "source": [
    "users.head()"
   ]
  },
  {
   "cell_type": "code",
   "execution_count": 16,
   "metadata": {
    "scrolled": true
   },
   "outputs": [
    {
     "data": {
      "text/plain": [
       "last_session_creation_time    True\n",
       "invited_by_user_id            True\n",
       "dtype: bool"
      ]
     },
     "execution_count": 16,
     "metadata": {},
     "output_type": "execute_result"
    }
   ],
   "source": [
    "#Check for null values\n",
    "\n",
    "users.isna().any()[lambda x: x]"
   ]
  },
  {
   "cell_type": "code",
   "execution_count": 27,
   "metadata": {},
   "outputs": [
    {
     "data": {
      "text/plain": [
       "3177"
      ]
     },
     "execution_count": 27,
     "metadata": {},
     "output_type": "execute_result"
    }
   ],
   "source": [
    "#Determine number of null entries in last_session_creation_time\n",
    "users[users.last_session_creation_time.isnull()].shape[0]"
   ]
  },
  {
   "cell_type": "code",
   "execution_count": 235,
   "metadata": {
    "scrolled": true
   },
   "outputs": [
    {
     "data": {
      "text/plain": [
       "5583"
      ]
     },
     "execution_count": 235,
     "metadata": {},
     "output_type": "execute_result"
    }
   ],
   "source": [
    "#Determine number of null entries in invited_by_user_id\n",
    "users[users.invited_by_user_id.isnull()].shape[0]\n"
   ]
  },
  {
   "cell_type": "code",
   "execution_count": 37,
   "metadata": {},
   "outputs": [],
   "source": [
    "# Rename columns of users to simplify joining tables\n",
    "\n",
    "users.columns = ['user_id', 'creation_time', 'name', 'email', 'creation_source',\n",
    "       'last_session_creation_time', 'opted_in_to_mailing_list',\n",
    "       'enabled_for_marketing_drip', 'org_id', 'invited_by_user_id']\n",
    "\n"
   ]
  },
  {
   "cell_type": "code",
   "execution_count": 107,
   "metadata": {
    "scrolled": true
   },
   "outputs": [
    {
     "name": "stderr",
     "output_type": "stream",
     "text": [
      "UsageError: Line magic function `%%timeit` not found.\n"
     ]
    }
   ],
   "source": [
    "# Combine both df's and convert timestamps to datetime\n",
    "\n",
    "full_df = relax.merge(users, how = 'inner', on = 'user_id')\n",
    "full_df['time_stamp'] = pd.to_datetime(full_df.time_stamp).dt.strftime('%m/%d/%Y')\n",
    "\n",
    "# Initialize empty lost of adopters\n",
    "adopters = []\n",
    "\n",
    "for user in users.user_id:\n",
    "    # Develop a smaller df for each individual user\n",
    "    test = full_df[full_df['user_id'] == user].copy()\n",
    "    test = test.loc[:, ['time_stamp', 'user_id']]\n",
    "    \n",
    "    # Compute the number days between three logins\n",
    "    test['two_logins_prior'] = test.time_stamp.shift(2)\n",
    "\n",
    "    test = test.dropna()\n",
    "    \n",
    "    # For only those users with a sufficient number of logins, record their id's to adopters if they have three logins over 7 days\n",
    "    if test.shape[0] > 0:\n",
    "        test['time_delta'] = (pd.to_datetime(test.time_stamp) - pd.to_datetime(test.two_logins_prior))\n",
    "\n",
    "        test['time_delta'] = test.time_delta.dt.days\n",
    "        test = test.sort_values('time_delta')\n",
    "\n",
    "        if test.iloc[0, :]['time_delta'] <= 7:\n",
    "            adopters.append(user)\n",
    "\n"
   ]
  },
  {
   "cell_type": "markdown",
   "metadata": {},
   "source": [
    "# Part 2:  EDA and Statistics on Adopters vs. Nonadopters"
   ]
  },
  {
   "cell_type": "code",
   "execution_count": 155,
   "metadata": {},
   "outputs": [],
   "source": [
    "# Create separate df's of adopters and non adopters for EDA\n",
    "# Duplicates are dropped because we are not considering the values of the timestamps as a feature in this report\n",
    "\n",
    "adopter_df = full_df.loc[full_df['user_id'].isin(adopters)]\n",
    "adopter_df = adopter_df.drop('time_stamp', axis = 1).drop_duplicates()\n",
    "\n",
    "\n",
    "nonadopter_df = full_df.loc[~full_df['user_id'].isin(adopters)]\n",
    "nonadopter_df = nonadopter_df.drop('time_stamp', axis = 1).drop_duplicates()"
   ]
  },
  {
   "cell_type": "code",
   "execution_count": 159,
   "metadata": {},
   "outputs": [
    {
     "data": {
      "text/html": [
       "<div>\n",
       "<style scoped>\n",
       "    .dataframe tbody tr th:only-of-type {\n",
       "        vertical-align: middle;\n",
       "    }\n",
       "\n",
       "    .dataframe tbody tr th {\n",
       "        vertical-align: top;\n",
       "    }\n",
       "\n",
       "    .dataframe thead th {\n",
       "        text-align: right;\n",
       "    }\n",
       "</style>\n",
       "<table border=\"1\" class=\"dataframe\">\n",
       "  <thead>\n",
       "    <tr style=\"text-align: right;\">\n",
       "      <th></th>\n",
       "      <th>user_id</th>\n",
       "      <th>visited</th>\n",
       "      <th>creation_time</th>\n",
       "      <th>name</th>\n",
       "      <th>email</th>\n",
       "      <th>creation_source</th>\n",
       "      <th>last_session_creation_time</th>\n",
       "      <th>opted_in_to_mailing_list</th>\n",
       "      <th>enabled_for_marketing_drip</th>\n",
       "      <th>org_id</th>\n",
       "      <th>invited_by_user_id</th>\n",
       "    </tr>\n",
       "  </thead>\n",
       "  <tbody>\n",
       "    <tr>\n",
       "      <th>1</th>\n",
       "      <td>2</td>\n",
       "      <td>1</td>\n",
       "      <td>2013-11-15 03:45:04</td>\n",
       "      <td>Poole Matthew</td>\n",
       "      <td>MatthewPoole@gustr.com</td>\n",
       "      <td>ORG_INVITE</td>\n",
       "      <td>1.396238e+09</td>\n",
       "      <td>0</td>\n",
       "      <td>0</td>\n",
       "      <td>1</td>\n",
       "      <td>316.0</td>\n",
       "    </tr>\n",
       "    <tr>\n",
       "      <th>20</th>\n",
       "      <td>10</td>\n",
       "      <td>1</td>\n",
       "      <td>2013-01-16 22:08:03</td>\n",
       "      <td>Santos Carla</td>\n",
       "      <td>CarlaFerreiraSantos@gustr.com</td>\n",
       "      <td>ORG_INVITE</td>\n",
       "      <td>1.401833e+09</td>\n",
       "      <td>1</td>\n",
       "      <td>1</td>\n",
       "      <td>318</td>\n",
       "      <td>4143.0</td>\n",
       "    </tr>\n",
       "    <tr>\n",
       "      <th>310</th>\n",
       "      <td>20</td>\n",
       "      <td>1</td>\n",
       "      <td>2014-03-06 11:46:38</td>\n",
       "      <td>Helms Mikayla</td>\n",
       "      <td>lqyvjilf@uhzdq.com</td>\n",
       "      <td>SIGNUP</td>\n",
       "      <td>1.401364e+09</td>\n",
       "      <td>0</td>\n",
       "      <td>0</td>\n",
       "      <td>58</td>\n",
       "      <td>NaN</td>\n",
       "    </tr>\n",
       "    <tr>\n",
       "      <th>328</th>\n",
       "      <td>33</td>\n",
       "      <td>1</td>\n",
       "      <td>2014-03-11 06:29:09</td>\n",
       "      <td>Araujo José</td>\n",
       "      <td>JoseMartinsAraujo@cuvox.de</td>\n",
       "      <td>GUEST_INVITE</td>\n",
       "      <td>1.401518e+09</td>\n",
       "      <td>0</td>\n",
       "      <td>0</td>\n",
       "      <td>401</td>\n",
       "      <td>79.0</td>\n",
       "    </tr>\n",
       "    <tr>\n",
       "      <th>349</th>\n",
       "      <td>42</td>\n",
       "      <td>1</td>\n",
       "      <td>2012-11-11 19:05:07</td>\n",
       "      <td>Pinto Giovanna</td>\n",
       "      <td>GiovannaCunhaPinto@cuvox.de</td>\n",
       "      <td>SIGNUP</td>\n",
       "      <td>1.401045e+09</td>\n",
       "      <td>1</td>\n",
       "      <td>0</td>\n",
       "      <td>235</td>\n",
       "      <td>NaN</td>\n",
       "    </tr>\n",
       "  </tbody>\n",
       "</table>\n",
       "</div>"
      ],
      "text/plain": [
       "     user_id  visited        creation_time            name  \\\n",
       "1          2        1  2013-11-15 03:45:04   Poole Matthew   \n",
       "20        10        1  2013-01-16 22:08:03    Santos Carla   \n",
       "310       20        1  2014-03-06 11:46:38   Helms Mikayla   \n",
       "328       33        1  2014-03-11 06:29:09     Araujo José   \n",
       "349       42        1  2012-11-11 19:05:07  Pinto Giovanna   \n",
       "\n",
       "                             email creation_source  \\\n",
       "1           MatthewPoole@gustr.com      ORG_INVITE   \n",
       "20   CarlaFerreiraSantos@gustr.com      ORG_INVITE   \n",
       "310             lqyvjilf@uhzdq.com          SIGNUP   \n",
       "328     JoseMartinsAraujo@cuvox.de    GUEST_INVITE   \n",
       "349    GiovannaCunhaPinto@cuvox.de          SIGNUP   \n",
       "\n",
       "     last_session_creation_time  opted_in_to_mailing_list  \\\n",
       "1                  1.396238e+09                         0   \n",
       "20                 1.401833e+09                         1   \n",
       "310                1.401364e+09                         0   \n",
       "328                1.401518e+09                         0   \n",
       "349                1.401045e+09                         1   \n",
       "\n",
       "     enabled_for_marketing_drip  org_id  invited_by_user_id  \n",
       "1                             0       1               316.0  \n",
       "20                            1     318              4143.0  \n",
       "310                           0      58                 NaN  \n",
       "328                           0     401                79.0  \n",
       "349                           0     235                 NaN  "
      ]
     },
     "execution_count": 159,
     "metadata": {},
     "output_type": "execute_result"
    }
   ],
   "source": [
    "adopter_df.head()"
   ]
  },
  {
   "cell_type": "code",
   "execution_count": 232,
   "metadata": {},
   "outputs": [
    {
     "data": {
      "image/png": "[encoded data removed]",
      "text/plain": [
       "<Figure size 432x288 with 1 Axes>"
      ]
     },
     "metadata": {
      "needs_background": "light"
     },
     "output_type": "display_data"
    }
   ],
   "source": [
    "# Visualize the effect (or effectiveness) of creation source in determining adopters\n",
    "\n",
    "adopt_source = adopter_df.groupby('creation_source')['creation_source'].count()\n",
    "plt.title('creation_source for adopters')\n",
    "ax = adopt_source.plot.barh(x='creation_source', y='user_id')\n"
   ]
  },
  {
   "cell_type": "code",
   "execution_count": 233,
   "metadata": {
    "scrolled": true
   },
   "outputs": [
    {
     "data": {
      "image/png": "[encoded data removed]",
      "text/plain": [
       "<Figure size 432x288 with 1 Axes>"
      ]
     },
     "metadata": {
      "needs_background": "light"
     },
     "output_type": "display_data"
    }
   ],
   "source": [
    "non_source = nonadopter_df.groupby('creation_source')['creation_source'].count()\n",
    "plt.title('creation_source for nonadopters')\n",
    "ax = non_source.plot.barh(x='creation_source', y='user_id')\n"
   ]
  },
  {
   "cell_type": "markdown",
   "metadata": {},
   "source": [
    "## Remarks: \n",
    "The distributions look comparable, except that the adopters seem more slightly likely to have come from guest invites, and nonadopters seems slightly more likely to have signed up via the website.  Let's test this further statistically."
   ]
  },
  {
   "cell_type": "code",
   "execution_count": 157,
   "metadata": {},
   "outputs": [
    {
     "name": "stdout",
     "output_type": "stream",
     "text": [
      "Willingness to opt-in and adoption likelihood:\n",
      "For adopters, willingess to opt in at 15.52 %\n",
      "For nonadopters, willingess to opt in at 15.12 %\n"
     ]
    }
   ],
   "source": [
    "# Compute opt-in willingess to adopt\n",
    "\n",
    "adopt_in_ratio = sum(adopter_df['enabled_for_marketing_drip'].values) / (adopter_df.shape[0])\n",
    "nonadopt_in_ratio = sum(nonadopter_df['enabled_for_marketing_drip'].values) / (nonadopter_df.shape[0])\n",
    "\n",
    "print('Willingness to opt-in and adoption likelihood:')\n",
    "print('For adopters, willingess to opt in at', round(adopt_in_ratio*100, 2), '%')\n",
    "print('For nonadopters, willingess to opt in at', round(nonadopt_in_ratio*100, 2), '%')\n"
   ]
  },
  {
   "cell_type": "code",
   "execution_count": 158,
   "metadata": {},
   "outputs": [
    {
     "name": "stdout",
     "output_type": "stream",
     "text": [
      "Enabled marketing drip and adoption likelihood:\n",
      "For adopters, marketing participation at 25.91 %\n",
      "For nonadopters, marketing participation at 25.07 %\n"
     ]
    }
   ],
   "source": [
    "# Compute enabled marketing drip and adoption \n",
    "\n",
    "adopt_market_ratio = sum(adopter_df['opted_in_to_mailing_list'].values) / (adopter_df.shape[0])\n",
    "\n",
    "nonadopt_market_ratio = sum(nonadopter_df['opted_in_to_mailing_list'].values) / (nonadopter_df.shape[0])\n",
    "\n",
    "print('Enabled marketing drip and adoption likelihood:')\n",
    "print('For adopters, marketing participation at', round(adopt_market_ratio*100, 2), '%')\n",
    "print('For nonadopters, marketing participation at', round(nonadopt_market_ratio*100, 2), '%')\n"
   ]
  },
  {
   "cell_type": "code",
   "execution_count": 184,
   "metadata": {},
   "outputs": [
    {
     "data": {
      "image/png": "[encoded data removed]",
      "text/plain": [
       "<Figure size 432x288 with 1 Axes>"
      ]
     },
     "metadata": {
      "needs_background": "light"
     },
     "output_type": "display_data"
    }
   ],
   "source": [
    "# Study of organizational id impact:\n",
    "\n",
    "adopt_orgs = adopter_df.groupby('org_id')['org_id'].count()\n",
    "ax = adopt_orgs.plot.barh(x='org_id', y='user_id')\n"
   ]
  },
  {
   "cell_type": "code",
   "execution_count": 185,
   "metadata": {},
   "outputs": [
    {
     "data": {
      "image/png": "[encoded data removed]",
      "text/plain": [
       "<Figure size 432x288 with 1 Axes>"
      ]
     },
     "metadata": {
      "needs_background": "light"
     },
     "output_type": "display_data"
    }
   ],
   "source": [
    "nonadopt_orgs = nonadopter_df.groupby('org_id')['org_id'].count()\n",
    "ax = nonadopt_orgs.plot.barh(x='org_id', y='user_id')\n"
   ]
  },
  {
   "cell_type": "markdown",
   "metadata": {},
   "source": [
    "## Remarks:\n",
    "It appears there are at least a few organizations which encouraged a large number of employees to sign up, but who did not adopt.  These might be considered outliers.  Otherwise, it appears that the number of employees from organizations which do or do not adopt may be comparable.  Removing the outliers (user groups over 100), we will check the distributions next."
   ]
  },
  {
   "cell_type": "code",
   "execution_count": 234,
   "metadata": {},
   "outputs": [
    {
     "data": {
      "image/png": "[encoded data removed]",
      "text/plain": [
       "<Figure size 432x288 with 1 Axes>"
      ]
     },
     "metadata": {
      "needs_background": "light"
     },
     "output_type": "display_data"
    }
   ],
   "source": [
    "plt.hist(nonadopt_orgs.values[nonadopt_orgs.values < 100], bins = 15, label = 'nonadopters', color = 'red')\n",
    "plt.hist(adopt_orgs.values, color = 'blue', label = 'adopters')\n",
    "plt.xlabel('number of users in org')\n",
    "plt.ylabel('number of orgs')\n",
    "plt.legend()\n",
    "plt.show()"
   ]
  },
  {
   "cell_type": "markdown",
   "metadata": {},
   "source": [
    "Examining the distributions of typical organizatons whose users elect to adopt or not, there is a clear tendency for higher engagement among smaller groups of users."
   ]
  },
  {
   "cell_type": "code",
   "execution_count": 230,
   "metadata": {},
   "outputs": [
    {
     "name": "stdout",
     "output_type": "stream",
     "text": [
      "Effectiveness of adopters inviting others:\n",
      "\n",
      "Ratio of invitees that adopted the technology: 28.02 %\n",
      "Ratio of invitees that did not adopted the technology: 71.98 %\n",
      "\n",
      "Ratio of adopters who did not receive an adopter invite: 17.78 %\n",
      "Ratio of user with no invite, no adoption: 82.22 %\n",
      "\n",
      "Adoption rate for entire dataset: 18.77 %\n"
     ]
    }
   ],
   "source": [
    "# Let's see if the invited_by_user_id provides any new information, particularly if the invitation comes from an adopter.\n",
    "\n",
    "everybody = pd.concat([adopter_df, nonadopter_df])\n",
    "\n",
    "adopter_invite = everybody.loc[everybody['invited_by_user_id'].isin(adopters)]\n",
    "adopter_invite_adopt = adopter_invite.loc[adopter_invite['user_id'].isin(adopters)]\n",
    "\n",
    "aia_ratio = adopter_invite_adopt.shape[0] / adopter_invite.shape[0]\n",
    "\n",
    "\n",
    "adopter_invite_nonadopt = adopter_invite.loc[~adopter_invite['user_id'].isin(adopters)]\n",
    "naia_ratio = adopter_invite_nonadopt.shape[0] / adopter_invite.shape[0]\n",
    "\n",
    "adoption_ratio = adopter_invite.shape[0] / everybody.shape[0]\n",
    "\n",
    "\n",
    "no_adopter_invite = everybody.loc[~everybody['invited_by_user_id'].isin(adopters)]\n",
    "no_adopter_invite_adopt = no_adopter_invite.loc[no_adopter_invite['user_id'].isin(adopters)]\n",
    "no_aia_ratio = no_adopter_invite_adopt.shape[0] / no_adopter_invite.shape[0]\n",
    "\n",
    "ratio_adopted_without_invite = no_aia_ratio\n",
    "ratio_no_invite_no_adopt = 1 - no_aia_ratio\n",
    "\n",
    "overall_ratio = everybody.loc[everybody['user_id'].isin(adopters)].shape[0] / everybody.shape[0]\n",
    "\n",
    "\n",
    "print('Effectiveness of adopters inviting others:')\n",
    "print('')\n",
    "print('Ratio of invitees that adopted the technology:', round(aia_ratio*100, 2), '%')\n",
    "print('Ratio of invitees that did not adopted the technology:', round(naia_ratio*100, 2), '%')\n",
    "print('')\n",
    "print('Ratio of adopters who did not receive an adopter invite:', round(ratio_adopted_without_invite*100,2), '%')\n",
    "print('Ratio of user with no invite, no adoption:', round(ratio_no_invite_no_adopt*100, 2), '%')\n",
    "print('')\n",
    "print('Adoption rate for entire dataset:', round(overall_ratio*100, 2),  '%')"
   ]
  }
 ],
 "metadata": {
  "kernelspec": {
   "display_name": "Python 3",
   "language": "python",
   "name": "python3"
  },
  "language_info": {
   "codemirror_mode": {
    "name": "ipython",
    "version": 3
   },
   "file_extension": ".py",
   "mimetype": "text/x-python",
   "name": "python",
   "nbconvert_exporter": "python",
   "pygments_lexer": "ipython3",
   "version": "3.7.1"
  }
 },
 "nbformat": 4,
 "nbformat_minor": 2
}
